{
 "cells": [
  {
   "cell_type": "code",
   "execution_count": 26,
   "metadata": {
    "collapsed": true
   },
   "outputs": [],
   "source": [
    "from pathlib import Path\n",
    "import os\n",
    "import json"
   ]
  },
  {
   "cell_type": "code",
   "execution_count": 27,
   "outputs": [
    {
     "data": {
      "text/plain": "True"
     },
     "execution_count": 27,
     "metadata": {},
     "output_type": "execute_result"
    }
   ],
   "source": [
    "home = Path(os.getenv('HOME'))\n",
    "wikiextract_path = home / 'wikiextract'\n",
    "eng_words_path = home / 'eng_words'\n",
    "references_path = home / 'references'\n",
    "wikiextract_path.exists()\n"
   ],
   "metadata": {
    "collapsed": false
   }
  },
  {
   "cell_type": "code",
   "execution_count": 28,
   "outputs": [],
   "source": [
    "eng_words = eng_words_path.open(\"w\")\n",
    "references = references_path.open(\"w\")\n"
   ],
   "metadata": {
    "collapsed": false
   }
  },
  {
   "cell_type": "code",
   "execution_count": 29,
   "outputs": [],
   "source": [
    "def extract_word_data(word_data):\n",
    "  d = {\n",
    "    \"word\": word_data['word'],\n",
    "    \"senses\": word_data['senses'],\n",
    "    \"pos\": word_data['pos'],\n",
    "  }\n",
    "\n",
    "  sound_data = {}\n",
    "  if 'sounds' in word_data:\n",
    "    for s in word_data['sounds']:\n",
    "      if 'tags' in s and \"US\" not in s['tags']:\n",
    "        continue\n",
    "      if 'ipa' in s:\n",
    "        sound_data['ipa'] = s['ipa']\n",
    "      if 'mp3_url' in s:\n",
    "        sound_data['mp3_url'] = s['mp3_url']\n",
    "      if 'ogg_url' in s:\n",
    "        sound_data['ogg_url'] = s['ogg_url']\n",
    "\n",
    "  d['sounds'] = sound_data\n",
    "  return d\n",
    "\n",
    "saved = 0\n",
    "redirects = 0\n",
    "discarded = 0\n",
    "try:\n",
    "  with wikiextract_path.open(\"r\") as f:\n",
    "    for idx, line in enumerate(f):\n",
    "      if (idx + 1) % 1_000_000 == 0:\n",
    "        print(f\"{saved=} {redirects=} {discarded=}, total={idx+1}\")\n",
    "      data = json.loads(line)\n",
    "      if \"redirect\" in data:\n",
    "        references.write(line + \"\\n\")\n",
    "        redirects += 1\n",
    "      elif \"lang_code\" in data and data['lang_code'] == \"en\":\n",
    "        eng_words.write(json.dumps(extract_word_data(data)) + \"\\n\")\n",
    "        saved +=1\n",
    "      else:\n",
    "        discarded += 1\n",
    "finally:\n",
    "  eng_words.close()\n",
    "  references.close()\n"
   ],
   "metadata": {
    "collapsed": false
   }
  }
 ],
 "metadata": {
  "kernelspec": {
   "display_name": "Python 3",
   "language": "python",
   "name": "python3"
  },
  "language_info": {
   "codemirror_mode": {
    "name": "ipython",
    "version": 2
   },
   "file_extension": ".py",
   "mimetype": "text/x-python",
   "name": "python",
   "nbconvert_exporter": "python",
   "pygments_lexer": "ipython2",
   "version": "2.7.6"
  }
 },
 "nbformat": 4,
 "nbformat_minor": 0
}
